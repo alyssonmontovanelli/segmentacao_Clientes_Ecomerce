{
 "cells": [
  {
   "cell_type": "code",
   "execution_count": 1,
   "id": "b6c14ae7",
   "metadata": {},
   "outputs": [],
   "source": [
    "import pandas as pd\n",
    "import numpy as np\n",
    "import matplotlib.pyplot as plt\n",
    "import seaborn as sns\n",
    "import scipy\n",
    "from scipy.stats import chi2_contingency\n",
    "from scipy.stats import zscore\n",
    "from scipy.stats import linregress\n",
    "from sklearn.ensemble import IsolationForest\n",
    "from sklearn.model_selection import cross_val_score\n",
    "\n",
    "import warnings\n",
    "warnings.filterwarnings('ignore')"
   ]
  },
  {
   "cell_type": "code",
   "execution_count": 2,
   "id": "d6722608",
   "metadata": {},
   "outputs": [],
   "source": [
    "# PRÉ PROCESSAMENTO"
   ]
  },
  {
   "cell_type": "code",
   "execution_count": null,
   "id": "992a69e8",
   "metadata": {},
   "outputs": [],
   "source": [
    "dados = pd.read_csv(\"C:\\Projetos Pessoais\\DataScience\\segmentacao_Clientes_Ecomerce\\data\\dados_limpos_pre_EDA.csv\")"
   ]
  },
  {
   "cell_type": "code",
   "execution_count": null,
   "id": "cc069fe5",
   "metadata": {},
   "outputs": [],
   "source": []
  },
  {
   "cell_type": "code",
   "execution_count": null,
   "id": "7a7e4274",
   "metadata": {},
   "outputs": [],
   "source": []
  }
 ],
 "metadata": {
  "kernelspec": {
   "display_name": "Python 3 (ipykernel)",
   "language": "python",
   "name": "python3"
  },
  "language_info": {
   "codemirror_mode": {
    "name": "ipython",
    "version": 3
   },
   "file_extension": ".py",
   "mimetype": "text/x-python",
   "name": "python",
   "nbconvert_exporter": "python",
   "pygments_lexer": "ipython3",
   "version": "3.9.13"
  }
 },
 "nbformat": 4,
 "nbformat_minor": 5
}
